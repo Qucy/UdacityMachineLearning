{
 "cells": [
  {
   "cell_type": "code",
   "execution_count": 1,
   "metadata": {},
   "outputs": [
    {
     "name": "stdout",
     "output_type": "stream",
     "text": [
      "[[3 0 0 0 0 0 0 0 0 0]\n",
      " [0 0 0 0 0 0 0 0 0 0]\n",
      " [0 0 0 0 0 0 0 0 0 0]\n",
      " [0 0 1 1 1 1 1 0 0 0]\n",
      " [0 5 1 0 0 0 1 0 0 0]\n",
      " [0 5 1 0 0 0 1 0 0 0]\n",
      " [0 0 1 0 0 0 1 0 0 0]\n",
      " [0 0 0 0 0 0 0 0 0 0]\n",
      " [0 0 0 0 0 0 0 0 0 0]\n",
      " [0 0 0 0 2 0 0 0 0 0]]\n"
     ]
    }
   ],
   "source": [
    "# This is a unit test case for Maze.py\n",
    "import numpy as np\n",
    "import pandas as pd\n",
    "\n",
    "dataFrame = pd.read_csv('testworlds/world01.csv', header=None)\n",
    "maze_matrix = dataFrame.values\n",
    "\n",
    "print(maze_matrix)"
   ]
  },
  {
   "cell_type": "code",
   "execution_count": 2,
   "metadata": {},
   "outputs": [
    {
     "name": "stdout",
     "output_type": "stream",
     "text": [
      "(9, 4)\n",
      "(0, 0)\n"
     ]
    }
   ],
   "source": [
    "from Maze import Maze\n",
    "\n",
    "maze = Maze(maze_matrix)\n",
    "\n",
    "print(maze.get_start_pos())\n",
    "\n",
    "print(maze.get_goal_pos())\n",
    "\n",
    "move_up = 0\n",
    "move_down = 1\n",
    "move_left = 2\n",
    "move_right = 3"
   ]
  },
  {
   "cell_type": "code",
   "execution_count": 3,
   "metadata": {},
   "outputs": [
    {
     "name": "stdout",
     "output_type": "stream",
     "text": [
      "--------------------\n",
      "G         \n",
      "          \n",
      "          \n",
      "  XXXXX   \n",
      " ~X   X   \n",
      " ~X   X   \n",
      "  X   X   \n",
      "          \n",
      "          \n",
      "    S     \n",
      "--------------------\n"
     ]
    }
   ],
   "source": [
    "maze.print_map()"
   ]
  },
  {
   "cell_type": "code",
   "execution_count": 5,
   "metadata": {},
   "outputs": [
    {
     "name": "stdout",
     "output_type": "stream",
     "text": [
      "2\n",
      "2\n",
      "2.0\n",
      "2.0\n"
     ]
    }
   ],
   "source": [
    "Qtable = np.zeros((100, 4))\n",
    "\n",
    "Qtable[1][0] = 2\n",
    "Qtable[1][1] = 3\n",
    "Qtable[1][2] = 9\n",
    "Qtable[1][3] = 1\n",
    "\n",
    "Qvalue = Qtable[1]\n",
    "\n",
    "indices = Qvalue.argmax()\n",
    "\n",
    "print(np.argmax(Qtable[1,:])\n",
    "\n",
    "print(indices)\n",
    "\n",
    "print(Qtable[1, 0])\n",
    "print(Qtable[1][0])"
   ]
  }
 ],
 "metadata": {
  "kernelspec": {
   "display_name": "Python 3",
   "language": "python",
   "name": "python3"
  },
  "language_info": {
   "codemirror_mode": {
    "name": "ipython",
    "version": 3
   },
   "file_extension": ".py",
   "mimetype": "text/x-python",
   "name": "python",
   "nbconvert_exporter": "python",
   "pygments_lexer": "ipython3",
   "version": "3.5.4"
  }
 },
 "nbformat": 4,
 "nbformat_minor": 2
}
