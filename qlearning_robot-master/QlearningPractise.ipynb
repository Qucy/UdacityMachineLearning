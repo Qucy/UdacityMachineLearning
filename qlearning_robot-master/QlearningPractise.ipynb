{
 "cells": [
  {
   "cell_type": "code",
   "execution_count": 1,
   "metadata": {},
   "outputs": [
    {
     "name": "stdout",
     "output_type": "stream",
     "text": [
      "[[3 0 0 0 0 0 0 0 0 0]\n",
      " [0 0 0 0 0 0 0 0 0 0]\n",
      " [0 0 0 0 0 0 0 0 0 0]\n",
      " [0 0 1 1 1 1 1 0 0 0]\n",
      " [0 5 1 0 0 0 1 0 0 0]\n",
      " [0 5 1 0 0 0 1 0 0 0]\n",
      " [0 0 1 0 0 0 1 0 0 0]\n",
      " [0 0 0 0 0 0 0 0 0 0]\n",
      " [0 0 0 0 0 0 0 0 0 0]\n",
      " [0 0 0 0 2 0 0 0 0 0]]\n"
     ]
    }
   ],
   "source": [
    "# This is a unit test case for Maze.py\n",
    "import numpy as np\n",
    "import pandas as pd\n",
    "\n",
    "dataFrame = pd.read_csv('testworlds/world01.csv', header=None)\n",
    "maze_matrix = dataFrame.values\n",
    "\n",
    "print(maze_matrix)"
   ]
  },
  {
   "cell_type": "code",
   "execution_count": 2,
   "metadata": {},
   "outputs": [
    {
     "name": "stdout",
     "output_type": "stream",
     "text": [
      "(9, 4)\n",
      "(0, 0)\n"
     ]
    }
   ],
   "source": [
    "from Maze import Maze\n",
    "\n",
    "maze = Maze(maze_matrix)\n",
    "\n",
    "print(maze.get_start_pos())\n",
    "\n",
    "print(maze.get_goal_pos())\n",
    "\n",
    "move_up = 0\n",
    "move_down = 1\n",
    "move_left = 2\n",
    "move_right = 3"
   ]
  },
  {
   "cell_type": "code",
   "execution_count": 3,
   "metadata": {},
   "outputs": [
    {
     "ename": "NameError",
     "evalue": "name 'retrieve_reward' is not defined",
     "output_type": "error",
     "traceback": [
      "\u001b[1;31m---------------------------------------------------------------------------\u001b[0m",
      "\u001b[1;31mNameError\u001b[0m                                 Traceback (most recent call last)",
      "\u001b[1;32m<ipython-input-3-d11217c9c77c>\u001b[0m in \u001b[0;36m<module>\u001b[1;34m()\u001b[0m\n\u001b[0;32m      3\u001b[0m \u001b[1;33m\u001b[0m\u001b[0m\n\u001b[0;32m      4\u001b[0m \u001b[1;31m# move up newpos should be (8, 4) and reward should be -1\u001b[0m\u001b[1;33m\u001b[0m\u001b[1;33m\u001b[0m\u001b[0m\n\u001b[1;32m----> 5\u001b[1;33m \u001b[0mnewpos\u001b[0m\u001b[1;33m,\u001b[0m \u001b[0mreward\u001b[0m \u001b[1;33m=\u001b[0m \u001b[0mmaze\u001b[0m\u001b[1;33m.\u001b[0m\u001b[0mmove\u001b[0m\u001b[1;33m(\u001b[0m\u001b[0mstart_point\u001b[0m\u001b[1;33m,\u001b[0m \u001b[0mmove_up\u001b[0m\u001b[1;33m)\u001b[0m\u001b[1;33m\u001b[0m\u001b[0m\n\u001b[0m\u001b[0;32m      6\u001b[0m \u001b[0mprint\u001b[0m\u001b[1;33m(\u001b[0m\u001b[0mstart_point\u001b[0m\u001b[1;33m,\u001b[0m \u001b[1;34m\"move up to newpos=\"\u001b[0m\u001b[1;33m,\u001b[0m \u001b[0mnewpos\u001b[0m\u001b[1;33m,\u001b[0m \u001b[1;34m\" reward=\"\u001b[0m\u001b[1;33m,\u001b[0m \u001b[0mreward\u001b[0m\u001b[1;33m)\u001b[0m\u001b[1;33m\u001b[0m\u001b[0m\n\u001b[0;32m      7\u001b[0m \u001b[1;33m\u001b[0m\u001b[0m\n",
      "\u001b[1;32m~\\NNYard\\py2\\UdacityMachineLearning\\qlearning_robot-master\\Maze.py\u001b[0m in \u001b[0;36mmove\u001b[1;34m(self, oldpos, a)\u001b[0m\n\u001b[0;32m     85\u001b[0m         \u001b[1;32melse\u001b[0m\u001b[1;33m:\u001b[0m\u001b[1;33m\u001b[0m\u001b[0m\n\u001b[0;32m     86\u001b[0m             \u001b[0mvalue\u001b[0m \u001b[1;33m=\u001b[0m \u001b[0mself\u001b[0m\u001b[1;33m.\u001b[0m\u001b[0mdata\u001b[0m\u001b[1;33m[\u001b[0m\u001b[0mnew_row\u001b[0m\u001b[1;33m]\u001b[0m\u001b[1;33m[\u001b[0m\u001b[0mnew_column\u001b[0m\u001b[1;33m]\u001b[0m\u001b[1;33m\u001b[0m\u001b[0m\n\u001b[1;32m---> 87\u001b[1;33m             \u001b[0mreward\u001b[0m \u001b[1;33m=\u001b[0m \u001b[0mretrieve_reward\u001b[0m\u001b[1;33m(\u001b[0m\u001b[0mvalue\u001b[0m\u001b[1;33m)\u001b[0m\u001b[1;33m\u001b[0m\u001b[0m\n\u001b[0m\u001b[0;32m     88\u001b[0m             \u001b[1;32mif\u001b[0m \u001b[1;33m(\u001b[0m\u001b[0mvalue\u001b[0m \u001b[1;33m==\u001b[0m \u001b[0mself\u001b[0m\u001b[1;33m.\u001b[0m\u001b[0mwall\u001b[0m\u001b[1;33m)\u001b[0m\u001b[1;33m:\u001b[0m\u001b[1;33m\u001b[0m\u001b[0m\n\u001b[0;32m     89\u001b[0m                 \u001b[0mnew_row\u001b[0m \u001b[1;33m=\u001b[0m \u001b[0moldpos\u001b[0m\u001b[1;33m[\u001b[0m\u001b[1;36m0\u001b[0m\u001b[1;33m]\u001b[0m\u001b[1;33m\u001b[0m\u001b[0m\n",
      "\u001b[1;31mNameError\u001b[0m: name 'retrieve_reward' is not defined"
     ]
    }
   ],
   "source": [
    "# Test move function\n",
    "start_point = maze.get_start_pos()\n",
    "\n",
    "# move up newpos should be (8, 4) and reward should be -1\n",
    "newpos, reward = maze.move(start_point, move_up)\n",
    "print(start_point, \"move up to newpos=\", newpos, \" reward=\", reward)\n",
    "\n",
    "# move down newpos should be (9, 4) and reward should be -1\n",
    "newpos, reward = maze.move(start_point, move_down)\n",
    "print(start_point, \"move down to newpos=\", newpos, \" reward=\", reward)\n",
    "\n",
    "# move down newpos should be (9, 3) and reward should be -1\n",
    "newpos, reward = maze.move(start_point, move_left)\n",
    "print(start_point, \"move left to newpos=\", newpos, \" reward=\", reward)\n",
    "\n",
    "# move down newpos should be (9, 5) and reward should be -1\n",
    "newpos, reward = maze.move(start_point, move_right)\n",
    "print(start_point, \"move right to newpos=\", newpos, \" reward=\", reward)\n",
    "\n",
    "# move left at (5, 0) should be (5, 0) and reward should be -1\n",
    "newpos, reward = maze.move((5, 0), move_left)\n",
    "print((5, 0), \"move left to newpos=\", newpos, \" reward=\", reward)\n",
    "\n",
    "# move right at (5, 0) should be (5, 1) and reward should be -100\n",
    "newpos, reward = maze.move((5, 0), move_right)\n",
    "print((5, 0), \"move right to newpos=\", newpos, \" reward=\", reward)\n",
    "\n",
    "# move right at (3, 1) should be (3, 1) and reward should be -1\n",
    "newpos, reward = maze.move((3, 1), move_right)\n",
    "print((3, 1), \"move right to newpos=\", newpos, \" reward=\", reward)\n",
    "\n",
    "# move right at (0, 9) should be (0, 9) and reward should be -1\n",
    "newpos, reward = maze.move((0, 9), move_right)\n",
    "print((0, 9), \"move right to newpos=\", newpos, \" reward=\", reward)\n",
    "\n",
    "# move right at (0, 9) should be (0, 9) and reward should be -1\n",
    "newpos, reward = maze.move((0, 9), move_up)\n",
    "print((0, 9), \"move up to newpos=\", newpos, \" reward=\", reward)\n",
    "\n",
    "# move up at (1, 0) should be (0, 0) and reward should be 1\n",
    "newpos, reward = maze.move((1, 0), move_up)\n",
    "print((1, 0), \"move up to newpos=\", newpos, \" reward=\", reward)"
   ]
  },
  {
   "cell_type": "code",
   "execution_count": null,
   "metadata": {},
   "outputs": [],
   "source": []
  }
 ],
 "metadata": {
  "kernelspec": {
   "display_name": "Python 3",
   "language": "python",
   "name": "python3"
  },
  "language_info": {
   "codemirror_mode": {
    "name": "ipython",
    "version": 3
   },
   "file_extension": ".py",
   "mimetype": "text/x-python",
   "name": "python",
   "nbconvert_exporter": "python",
   "pygments_lexer": "ipython3",
   "version": "3.5.4"
  }
 },
 "nbformat": 4,
 "nbformat_minor": 2
}
