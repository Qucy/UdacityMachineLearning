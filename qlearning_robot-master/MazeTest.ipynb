{
 "cells": [
  {
   "cell_type": "code",
   "execution_count": 1,
   "metadata": {},
   "outputs": [
    {
     "name": "stdout",
     "output_type": "stream",
     "text": [
      "[[3 0 0 0 0 0 0 0 0 0]\n",
      " [0 0 0 0 0 0 0 0 0 0]\n",
      " [0 0 0 0 0 0 0 0 0 0]\n",
      " [0 0 1 1 1 1 1 0 0 0]\n",
      " [0 5 1 0 0 0 1 0 0 0]\n",
      " [0 5 1 0 0 0 1 0 0 0]\n",
      " [0 0 1 0 0 0 1 0 0 0]\n",
      " [0 0 0 0 0 0 0 0 0 0]\n",
      " [0 0 0 0 0 0 0 0 0 0]\n",
      " [0 0 0 0 2 0 0 0 0 0]]\n"
     ]
    }
   ],
   "source": [
    "# This is a unit test case for Maze.py\n",
    "import numpy as np\n",
    "import pandas as pd\n",
    "\n",
    "dataFrame = pd.read_csv('testworlds/world01.csv', header=None)\n",
    "maze_matrix = dataFrame.values\n",
    "\n",
    "print(maze_matrix)"
   ]
  },
  {
   "cell_type": "code",
   "execution_count": 2,
   "metadata": {},
   "outputs": [
    {
     "name": "stdout",
     "output_type": "stream",
     "text": [
      "(9, 4)\n",
      "(0, 0)\n"
     ]
    }
   ],
   "source": [
    "from Maze import Maze\n",
    "\n",
    "maze = Maze(maze_matrix)\n",
    "\n",
    "print(maze.get_start_pos())\n",
    "\n",
    "print(maze.get_goal_pos())\n",
    "\n",
    "move_up = 0\n",
    "move_down = 1\n",
    "move_left = 2\n",
    "move_right = 3"
   ]
  },
  {
   "cell_type": "code",
   "execution_count": 5,
   "metadata": {},
   "outputs": [
    {
     "name": "stdout",
     "output_type": "stream",
     "text": [
      "(9, 4) move up to newpos= (8, 4)  reward= -1\n",
      "(9, 4) move down to newpos= (9, 4)  reward= -1\n",
      "(9, 4) move left to newpos= (9, 3)  reward= -1\n",
      "(9, 4) move right to newpos= (9, 5)  reward= -1\n",
      "(5, 0) move left to newpos= (5, 0)  reward= -1\n",
      "(5, 0) move right to newpos= (5, 1)  reward= -100\n",
      "(3, 1) move right to newpos= (3, 1)  reward= -1\n",
      "(0, 9) move right to newpos= (0, 9)  reward= -1\n",
      "(0, 9) move up to newpos= (0, 9)  reward= -1\n"
     ]
    }
   ],
   "source": [
    "# Test move function\n",
    "start_point = maze.get_start_pos()\n",
    "\n",
    "# move up newpos should be (8, 4) and reward should be -1\n",
    "newpos, reward = maze.move(start_point, move_up)\n",
    "print(start_point, \"move up to newpos=\", newpos, \" reward=\", reward)\n",
    "\n",
    "# move down newpos should be (9, 4) and reward should be -1\n",
    "newpos, reward = maze.move(start_point, move_down)\n",
    "print(start_point, \"move down to newpos=\", newpos, \" reward=\", reward)\n",
    "\n",
    "# move down newpos should be (9, 3) and reward should be -1\n",
    "newpos, reward = maze.move(start_point, move_left)\n",
    "print(start_point, \"move left to newpos=\", newpos, \" reward=\", reward)\n",
    "\n",
    "# move down newpos should be (9, 5) and reward should be -1\n",
    "newpos, reward = maze.move(start_point, move_right)\n",
    "print(start_point, \"move right to newpos=\", newpos, \" reward=\", reward)\n",
    "\n",
    "# move left at (5, 0) should be (5, 0) and reward should be -1\n",
    "newpos, reward = maze.move((5, 0), move_left)\n",
    "print((5, 0), \"move left to newpos=\", newpos, \" reward=\", reward)\n",
    "\n",
    "# move right at (5, 0) should be (5, 1) and reward should be -100\n",
    "newpos, reward = maze.move((5, 0), move_right)\n",
    "print((5, 0), \"move right to newpos=\", newpos, \" reward=\", reward)\n",
    "\n",
    "# move right at (3, 1) should be (3, 1) and reward should be -1\n",
    "newpos, reward = maze.move((3, 1), move_right)\n",
    "print((3, 1), \"move right to newpos=\", newpos, \" reward=\", reward)\n",
    "\n",
    "# move right at (0, 9) should be (0, 9) and reward should be -1\n",
    "newpos, reward = maze.move((0, 9), move_right)\n",
    "print((0, 9), \"move right to newpos=\", newpos, \" reward=\", reward)\n",
    "\n",
    "# move right at (0, 9) should be (0, 9) and reward should be -1\n",
    "newpos, reward = maze.move((0, 9), move_up)\n",
    "print((0, 9), \"move up to newpos=\", newpos, \" reward=\", reward)"
   ]
  },
  {
   "cell_type": "code",
   "execution_count": null,
   "metadata": {},
   "outputs": [],
   "source": []
  }
 ],
 "metadata": {
  "kernelspec": {
   "display_name": "Python 3",
   "language": "python",
   "name": "python3"
  },
  "language_info": {
   "codemirror_mode": {
    "name": "ipython",
    "version": 3
   },
   "file_extension": ".py",
   "mimetype": "text/x-python",
   "name": "python",
   "nbconvert_exporter": "python",
   "pygments_lexer": "ipython3",
   "version": "3.5.4"
  }
 },
 "nbformat": 4,
 "nbformat_minor": 2
}
