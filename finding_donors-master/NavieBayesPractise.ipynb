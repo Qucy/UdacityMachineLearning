{
 "cells": [
  {
   "cell_type": "code",
   "execution_count": 1,
   "metadata": {},
   "outputs": [],
   "source": [
    "sample_memo = '''\n",
    "Milt, we're gonna need to go ahead and move you downstairs into storage B. We have some new people coming in, and we need all the space we can get. So if you could just go ahead and pack up your stuff and move it down there, that would be terrific, OK?\n",
    "Oh, and remember: next Friday... is Hawaiian shirt day. So, you know, if you want to, go ahead and wear a Hawaiian shirt and jeans.\n",
    "Oh, oh, and I almost forgot. Ahh, I'm also gonna need you to go ahead and come in on Sunday, too...\n",
    "Hello Peter, whats happening? Ummm, I'm gonna need you to go ahead and come in tomorrow. So if you could be here around 9 that would be great, mmmk... oh oh! and I almost forgot ahh, I'm also gonna need you to go ahead and come in on Sunday too, kay. We ahh lost some people this week and ah, we sorta need to play catch up.\n",
    "'''"
   ]
  },
  {
   "cell_type": "code",
   "execution_count": 43,
   "metadata": {},
   "outputs": [
    {
     "name": "stdout",
     "output_type": "stream",
     "text": [
      "index: 5  word: to words after:  go\n",
      "index: 67  word: to words after:  go\n",
      "index: 89  word: to words after:  go\n",
      "index: 107  word: to words after:  go\n",
      "index: 140  word: to words after:  go\n",
      "index: 162  word: to words after:  play\n"
     ]
    },
    {
     "data": {
      "text/plain": [
       "{'go': 5, 'play': 1}"
      ]
     },
     "execution_count": 43,
     "metadata": {},
     "output_type": "execute_result"
    }
   ],
   "source": [
    "#\n",
    "#   Maximum Likelihood Hypothesis\n",
    "#\n",
    "#\n",
    "#   In this quiz we will find the maximum likelihood word based on the preceding word\n",
    "#\n",
    "#   Fill in the NextWordProbability procedure so that it takes in sample text and a word,\n",
    "#   and returns a dictionary with keys the set of words that come after, whose values are\n",
    "#   the number of times the key comes after that word.\n",
    "#   \n",
    "#   Just use .split() to split the sample_memo text into words separated by spaces.\n",
    "\n",
    "def cleanWords(sampletext):\n",
    "    filtered_sample = sampletext.replace('\\n', '').replace('.', '').replace(',', '').replace('?', '').replace(':', '').replace('\\'', ' a')\n",
    "    words = filtered_sample.lower().split(' ')\n",
    "    return words\n",
    "\n",
    "\n",
    "def NextWordProbability(sampletext, word):\n",
    "    words = words = cleanWords(sampletext)\n",
    "    ret_dict = {}\n",
    "    \n",
    "    for idx, val in enumerate(words):\n",
    "        if(val == word and idx + 1 < len(words)):\n",
    "            print \"index:\", idx, \" word:\", val, \"words after: \", words[idx+1]\n",
    "            if (words[idx+1] in ret_dict) :\n",
    "                ret_dict[words[idx+1]] = ret_dict[words[idx+1]] + 1\n",
    "            else:\n",
    "                ret_dict[words[idx+1]] = 1\n",
    "    return ret_dict\n",
    "\n",
    "#NextWordProbability(sample_memo, 'to')"
   ]
  },
  {
   "cell_type": "code",
   "execution_count": 56,
   "metadata": {},
   "outputs": [
    {
     "name": "stdout",
     "output_type": "stream",
     "text": [
      "sunday\n"
     ]
    }
   ],
   "source": [
    "def LaterWords(sample,word,distance):\n",
    "    '''@param sample: a sample of text to draw from\n",
    "    @param word: a word occuring before a corrupted sequence\n",
    "    @param distance: how many words later to estimate (i.e. 1 for the next word, 2 for the word after that)\n",
    "    @returns: a single word which is the most likely possibility\n",
    "    '''\n",
    "    \n",
    "    # TODO: Given a word, collect the relative probabilities of possible following words\n",
    "    # from @sample. You may want to import your code from the maximum likelihood exercise.\n",
    "    ret_dict = NextWordProbability(sample, word)\n",
    "    \n",
    "    # TODO: Repeat the above process--for each distance beyond 1, evaluate the words that\n",
    "    # might come after each word, and combine them weighting by relative probability\n",
    "    # into an estimate of what might appear next.\n",
    "    max_occurance = 0\n",
    "    curr_key = ''\n",
    "    for i in range(1, distance + 1):\n",
    "        max_occurance = 0\n",
    "        for k, v in ret_dict.items():\n",
    "            if (v > max_occurance):\n",
    "                max_occurance = v\n",
    "                curr_key = k\n",
    "        ret_dict = NextWordProbability(sample, curr_key)\n",
    "    \n",
    "    return curr_key\n",
    "\n",
    "print LaterWords(sample_memo, \"in\", 2)"
   ]
  },
  {
   "cell_type": "code",
   "execution_count": null,
   "metadata": {},
   "outputs": [],
   "source": []
  }
 ],
 "metadata": {
  "kernelspec": {
   "display_name": "Python 2",
   "language": "python",
   "name": "python2"
  },
  "language_info": {
   "codemirror_mode": {
    "name": "ipython",
    "version": 2
   },
   "file_extension": ".py",
   "mimetype": "text/x-python",
   "name": "python",
   "nbconvert_exporter": "python",
   "pygments_lexer": "ipython2",
   "version": "2.7.14"
  }
 },
 "nbformat": 4,
 "nbformat_minor": 2
}
