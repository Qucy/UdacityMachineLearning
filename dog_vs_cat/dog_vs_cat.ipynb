{
 "cells": [
  {
   "cell_type": "markdown",
   "metadata": {},
   "source": [
    "### 数据处理\n",
    "- 原始数据集直接从Kaggle上下载，解压并且经过预处理之后分别放在 train/cat，train/dog以及test/none目录下（详见readme）\n",
    "- 同时项目中提供了一个额外的[扩充数据](http://www.robots.ox.ac.uk/%7Evgg/data/pets/)，扩充数据集总共有7390张图片，猫的图片有2400张，狗的图片有4990张\n",
    "- 数据解压后文件全部在images文件夹下，文件名的格式为{种类}_{序号}.jpg，比如 Abyssinian_1.jpg\n",
    "- 同时官方给出了所有图片的种类明细，比如Abyssinian是猫。所以应该把图片Abyssinian_1.jpg分类到train/cat的目录下面\n",
    "- "
   ]
  },
  {
   "cell_type": "markdown",
   "metadata": {},
   "source": [
    "#### 图片目录结构\n",
    "当前的图片目录结构如下\n",
    "```\n",
    "data\n",
    " ├── images [7390 images]\n",
    " ├── test\n",
    " │   └── none [12500 images]\n",
    " └── train\n",
    "     ├── cat [12500 images]\n",
    "     └── dog [12500 images]\n",
    "```\n",
    "我们需要把images下的7390张图片，根据官方给出的类别分类到train目录的cat和dog子目录中。分类成功的话新的数据集猫的图片数量应该为12500+2400=14900，狗的图片数量为12500+4990=17490。处理后的图片目录结构应该如下\n",
    "```\n",
    "data\n",
    " ├── test\n",
    " │   └── none [12500 images]\n",
    " └── train\n",
    "     ├── cat [14900 images]\n",
    "     └── dog [17490 images]\n",
    "```"
   ]
  },
  {
   "cell_type": "code",
   "execution_count": 1,
   "metadata": {},
   "outputs": [
    {
     "name": "stdout",
     "output_type": "stream",
     "text": [
      "Local cat test images:  2400\n",
      "Local dog test images:  4990\n"
     ]
    }
   ],
   "source": [
    "import os\n",
    "from shutil import copyfile\n",
    "\n",
    "dog_breeds = ['american_bulldog', 'american_pit_bull_terrier','basset_hound','beagle','boxer',\n",
    "             'chihuahua','english_cocker_spaniel','english_setter','german_shorthaired','great_pyrenees',\n",
    "             'havanese','japanese_chin','keeshond','leonberger','miniature_pinscher','newfoundland','pomeranian',\n",
    "             'pug','saint_bernard','samoyed','scottish_terrier','shiba_inu','staffordshire_bull_terrier',\n",
    "             'wheaten_terrier','yorkshire_terrier']\n",
    "\n",
    "cat_breeds = ['Abyssinian','Bengal','Birman','Bombay','British_Shorthair','Egyptian_Mau','Maine_Coon','Persian',\n",
    "              'Ragdoll','Russian_Blue','Siamese','Sphynx']\n",
    "\n",
    "src = 'data/images/'\n",
    "dog_dest = 'data/local_test/dog/'\n",
    "cat_dest = 'data/local_test/cat/'\n",
    "\n",
    "os.makedirs(dog_dest, exist_ok=True)\n",
    "os.makedirs(cat_dest, exist_ok=True)\n",
    "\n",
    "def copy_extra_data(dest, breeds):\n",
    "    for root, dirs, files in os.walk(src):\n",
    "        for name in files:\n",
    "            for val in breeds:\n",
    "                if(name.find(val)>-1):\n",
    "                    copyfile(src + name, dest + name)\n",
    "                    \n",
    "\n",
    "copy_extra_data(dog_dest, dog_breeds)\n",
    "copy_extra_data(cat_dest, cat_breeds)\n",
    "\n",
    "print(\"Local cat test images: \", \n",
    "      len([name for name in os.listdir(cat_dest) if os.path.isfile(os.path.join(cat_dest, name))]))\n",
    "print(\"Local dog test images: \", \n",
    "      len([name for name in os.listdir(dog_dest) if os.path.isfile(os.path.join(dog_dest, name))]))"
   ]
  },
  {
   "cell_type": "markdown",
   "metadata": {},
   "source": [
    "### 导出深度特征\n",
    "- 根据当前训练以及测试集导出VGG16,VGG19,ResNet50,Xception以及InceptionV3的深度特征\n",
    "- VGG16,VGG19,ResNet50要求的图片的大小为（224， 224）\n",
    "- Xception，Inception要求的图片大小为（299，299）\n",
    "- 先对所有数据进行一个预处理的操作，把数据缩放到-1到1之间\n",
    "- 其次我们加入一个平局池化操作，一方面是缩小我们导出的深度特征文件的大小，另一方是防止过拟合\n",
    "- 最后使用Keras的ImageGenerator对数据进行增加处理"
   ]
  },
  {
   "cell_type": "code",
   "execution_count": 2,
   "metadata": {},
   "outputs": [
    {
     "name": "stderr",
     "output_type": "stream",
     "text": [
      "c:\\users\\tracy\\anaconda3\\envs\\tensorflow\\lib\\site-packages\\h5py\\__init__.py:36: FutureWarning: Conversion of the second argument of issubdtype from `float` to `np.floating` is deprecated. In future, it will be treated as `np.float64 == np.dtype(float).type`.\n",
      "  from ._conv import register_converters as _register_converters\n",
      "Using TensorFlow backend.\n"
     ]
    }
   ],
   "source": [
    "from keras.models import *\n",
    "from keras.layers import *\n",
    "from keras.applications import *\n",
    "from keras.preprocessing.image import *\n",
    "\n",
    "import time\n",
    "import h5py\n",
    "\n",
    "train_data_path = 'data/train/'\n",
    "test_data_path = 'data/test/'\n",
    "local_test_data_path = 'data/local_test/'\n",
    "\n",
    "def save_bottleneck_features(MODEL, image_size, module_name, preprocess):\n",
    "    \n",
    "    start_time = time.time()\n",
    "    \n",
    "    width = image_size[0]\n",
    "    height = image_size[1]\n",
    "    input_tensor = Input((height, width, 3))\n",
    "    x = Lambda(preprocess)(input_tensor)\n",
    "    \n",
    "    base_model = MODEL(input_tensor=x, weights='imagenet', include_top=False)\n",
    "    model = Model(base_model.input, GlobalAveragePooling2D()(base_model.output))\n",
    "\n",
    "    gen = ImageDataGenerator()\n",
    "    train_generator = gen.flow_from_directory(train_data_path, image_size, shuffle=False)\n",
    "    test_generator = gen.flow_from_directory(test_data_path, image_size, shuffle=False, class_mode=None)\n",
    "    local_test_generator = gen.flow_from_directory(local_test_data_path, image_size, shuffle=False, class_mode=None)\n",
    "\n",
    "    train = model.predict_generator(train_generator)\n",
    "    test = model.predict_generator(test_generator)\n",
    "    local_test = model.predict_generator(local_test_generator)\n",
    "    \n",
    "    with h5py.File(\"bottleneck_features/{}_bottleneck_features.h5\".format(module_name)) as h:\n",
    "        h.create_dataset(\"train\", data=train)\n",
    "        h.create_dataset(\"test\", data=test)\n",
    "        h.create_dataset(\"label\", data=train_generator.classes)\n",
    "        h.create_dataset(\"local_test\", data=local_test)\n",
    "        h.create_dataset(\"local_test_label\", data=local_test_generator.classes)\n",
    "        \n",
    "    end_time = time.time()\n",
    "    \n",
    "    print(\"{} extrac features total consumed: {} seconds\".format(module_name, end_time - start_time))"
   ]
  },
  {
   "cell_type": "code",
   "execution_count": 3,
   "metadata": {},
   "outputs": [
    {
     "name": "stdout",
     "output_type": "stream",
     "text": [
      "Found 25000 images belonging to 2 classes.\n",
      "Found 12500 images belonging to 1 classes.\n",
      "Found 7390 images belonging to 2 classes.\n",
      "VGG16 extrac features total consumed: 268.376017332077 seconds\n"
     ]
    }
   ],
   "source": [
    "save_bottleneck_features(VGG16, (224, 224), 'VGG16', vgg16.preprocess_input)"
   ]
  },
  {
   "cell_type": "code",
   "execution_count": 4,
   "metadata": {},
   "outputs": [
    {
     "name": "stdout",
     "output_type": "stream",
     "text": [
      "Found 25000 images belonging to 2 classes.\n",
      "Found 12500 images belonging to 1 classes.\n",
      "Found 7390 images belonging to 2 classes.\n",
      "VGG19 extrac features total consumed: 299.7511031627655 seconds\n"
     ]
    }
   ],
   "source": [
    "save_bottleneck_features(VGG19, (224, 224), 'VGG19', vgg19.preprocess_input)"
   ]
  },
  {
   "cell_type": "code",
   "execution_count": 5,
   "metadata": {},
   "outputs": [
    {
     "name": "stdout",
     "output_type": "stream",
     "text": [
      "Found 25000 images belonging to 2 classes.\n",
      "Found 12500 images belonging to 1 classes.\n",
      "Found 7390 images belonging to 2 classes.\n",
      "ResNet50 extrac features total consumed: 251.73025679588318 seconds\n"
     ]
    }
   ],
   "source": [
    "save_bottleneck_features(ResNet50, (224, 224), 'ResNet50', resnet50.preprocess_input)"
   ]
  },
  {
   "cell_type": "code",
   "execution_count": 6,
   "metadata": {},
   "outputs": [
    {
     "name": "stdout",
     "output_type": "stream",
     "text": [
      "Found 25000 images belonging to 2 classes.\n",
      "Found 12500 images belonging to 1 classes.\n",
      "Found 7390 images belonging to 2 classes.\n",
      "InceptionV3 extrac features total consumed: 322.9861743450165 seconds\n"
     ]
    }
   ],
   "source": [
    "save_bottleneck_features(InceptionV3, (299, 299), 'InceptionV3', inception_v3.preprocess_input)"
   ]
  },
  {
   "cell_type": "code",
   "execution_count": 7,
   "metadata": {},
   "outputs": [
    {
     "name": "stdout",
     "output_type": "stream",
     "text": [
      "Found 25000 images belonging to 2 classes.\n",
      "Found 12500 images belonging to 1 classes.\n",
      "Found 7390 images belonging to 2 classes.\n",
      "Xception extrac features total consumed: 494.8071129322052 seconds\n"
     ]
    }
   ],
   "source": [
    "save_bottleneck_features(Xception, (299, 299), 'Xception', xception.preprocess_input)"
   ]
  },
  {
   "cell_type": "markdown",
   "metadata": {},
   "source": [
    "### 迁移学习\n",
    "- 至此针对以上模型的深度特征提取完毕\n",
    "- VGG16耗时约4分19秒，VGG19耗时越5分3秒，ResNet50耗时约4分14秒，InceptionV3耗时约5分45秒，Xception耗时约8分钟19秒\n",
    "- 依据这些深度特征我们可以来构建新的模型并且只需要构建最后一层\n",
    "- 这里首先构建一个dropout层，参数为0.5，最后构建一个全连接层来做分类"
   ]
  },
  {
   "cell_type": "code",
   "execution_count": 10,
   "metadata": {},
   "outputs": [],
   "source": [
    "import h5py\n",
    "import numpy as np\n",
    "import pandas as pd\n",
    "from keras.models import *\n",
    "from keras.layers import *\n",
    "from keras.preprocessing.image import *\n",
    "from sklearn.metrics import log_loss\n",
    "from sklearn.metrics import accuracy_score\n",
    "import time\n",
    "\n",
    "def retrieve_features(files):\n",
    "    X_train = []\n",
    "    X_test = []\n",
    "    y_train = []\n",
    "    X_local_test = []\n",
    "    y_local_test = []\n",
    "    \n",
    "    for filename in files:\n",
    "        with h5py.File(filename, 'r') as h:\n",
    "            X_train.append(np.array(h['train']))\n",
    "            X_test.append(np.array(h['test']))\n",
    "            X_local_test.append(np.array(h['local_test']))\n",
    "            y_train = np.array(h['label'])\n",
    "            y_local_test = np.array(h['local_test_label'])\n",
    "        \n",
    "    X_train = np.concatenate(X_train, axis=1)\n",
    "    X_test = np.concatenate(X_test, axis=1)\n",
    "    X_local_test = np.concatenate(X_local_test, axis=1)\n",
    "    \n",
    "    return X_train, X_test, X_local_test, y_train, y_local_test\n",
    "\n",
    "    \n",
    "\n",
    "def train_model(X_train, y_train):\n",
    "    # construct model\n",
    "    input_tensor = Input(X_train.shape[1:])\n",
    "    x = Dropout(0.5)(input_tensor)\n",
    "    x = Dense(1, activation='sigmoid')(x)\n",
    "    model = Model(input_tensor, x)\n",
    "    # compile model\n",
    "    model.compile(optimizer='adam', loss='binary_crossentropy', metrics=['accuracy'])\n",
    "    # train model\n",
    "    start_time = time.time()\n",
    "    model.fit(X_train, y_train, batch_size=128, epochs=10, validation_split=0.2, verbose=1)\n",
    "    end_time = time.time()\n",
    "    print(\"Trainning model total consumed:{} seconds\".format(end_time - start_time))\n",
    "    \n",
    "    return model\n",
    "\n",
    "def evaluate_model(X_local_test, y_local_test, model):\n",
    "    evaluate = model.evaluate(X_local_test, y_local_test, verbose=1)\n",
    "    print(\"Evaluate result, loss:{} , acc:{}\".format(evaluate[0], evaluate[1]))\n",
    "\n",
    "\n",
    "def generate_submission_csv(X_test):\n",
    "    \n",
    "    train_data_path = 'data/train/'\n",
    "    test_data_path = 'data/test/'\n",
    "\n",
    "    y_pred = model.predict(X_test, verbose=1)\n",
    "    y_pred = y_pred.clip(min=0.005, max=1)\n",
    "\n",
    "\n",
    "    df = pd.read_csv(\"data/sample_submission.csv\")\n",
    "\n",
    "    gen = ImageDataGenerator()\n",
    "    test_generator = gen.flow_from_directory(test_data_path, (224, 224), shuffle=False, batch_size=32, class_mode=None)\n",
    "\n",
    "    for i, fname in enumerate(test_generator.filenames):\n",
    "        index = int(fname[fname.rfind('\\\\')+1:fname.rfind('.')])\n",
    "        df.at[index-1, 'label'] = y_pred[i]\n",
    "\n",
    "\n",
    "    df.to_csv('data/pred.csv', index=None)\n",
    "    df.head(10)"
   ]
  },
  {
   "cell_type": "code",
   "execution_count": 6,
   "metadata": {},
   "outputs": [
    {
     "name": "stdout",
     "output_type": "stream",
     "text": [
      "Train on 20000 samples, validate on 5000 samples\n",
      "Epoch 1/10\n",
      "20000/20000 [==============================] - 2s 120us/step - loss: 0.1493 - acc: 0.9530 - val_loss: 0.0170 - val_acc: 0.9948\n",
      "Epoch 2/10\n",
      "20000/20000 [==============================] - 2s 123us/step - loss: 0.0325 - acc: 0.9899 - val_loss: 0.0249 - val_acc: 0.9904\n",
      "Epoch 3/10\n",
      "20000/20000 [==============================] - 2s 123us/step - loss: 0.0243 - acc: 0.9920 - val_loss: 0.0194 - val_acc: 0.9940\n",
      "Epoch 4/10\n",
      "20000/20000 [==============================] - 2s 118us/step - loss: 0.0203 - acc: 0.9937 - val_loss: 0.0155 - val_acc: 0.9950\n",
      "Epoch 5/10\n",
      "20000/20000 [==============================] - 2s 108us/step - loss: 0.0190 - acc: 0.9937 - val_loss: 0.0311 - val_acc: 0.9898\n",
      "Epoch 6/10\n",
      "20000/20000 [==============================] - 2s 112us/step - loss: 0.0157 - acc: 0.9951 - val_loss: 0.0729 - val_acc: 0.9756\n",
      "Epoch 7/10\n",
      "20000/20000 [==============================] - 2s 116us/step - loss: 0.0140 - acc: 0.9959 - val_loss: 0.0355 - val_acc: 0.9884\n",
      "Epoch 8/10\n",
      "20000/20000 [==============================] - 2s 109us/step - loss: 0.0133 - acc: 0.9959 - val_loss: 0.0239 - val_acc: 0.9934\n",
      "Epoch 9/10\n",
      "20000/20000 [==============================] - 2s 123us/step - loss: 0.0117 - acc: 0.9964 - val_loss: 0.0204 - val_acc: 0.9932\n",
      "Epoch 10/10\n",
      "20000/20000 [==============================] - 2s 110us/step - loss: 0.0112 - acc: 0.9963 - val_loss: 0.0120 - val_acc: 0.9956\n",
      "Trainning model total consumed:23.36208438873291 seconds\n",
      "7390/7390 [==============================] - 2s 216us/step\n",
      "Evaluate result, loss:0.03318076389603076 , acc:0.9903924221921515\n"
     ]
    }
   ],
   "source": [
    "# train and evaluate using all the models bottleneck_features\n",
    "bottleneck_files = [\"bottleneck_features/VGG16_bottleneck_features.h5\",\n",
    "                    \"bottleneck_features/VGG19_bottleneck_features.h5\", \n",
    "                    \"bottleneck_features/ResNet50_bottleneck_features.h5\",\n",
    "                    \"bottleneck_features/InceptionV3_bottleneck_features.h5\",\n",
    "                    \"bottleneck_features/Xception_bottleneck_features.h5\"]\n",
    "\n",
    "\n",
    "X_train, X_test, X_local_test, y_train, y_local_test = retrieve_features(bottleneck_files)\n",
    "\n",
    "model = train_model(X_train, y_train)\n",
    "\n",
    "evaluate_model(X_local_test, y_local_test, model)"
   ]
  },
  {
   "cell_type": "code",
   "execution_count": 23,
   "metadata": {},
   "outputs": [
    {
     "name": "stdout",
     "output_type": "stream",
     "text": [
      "(7390,) 0.0070878025\n",
      "(7390,) 0\n",
      "nan\n"
     ]
    },
    {
     "name": "stderr",
     "output_type": "stream",
     "text": [
      "c:\\users\\tracy\\anaconda3\\envs\\tensorflow\\lib\\site-packages\\sklearn\\metrics\\classification.py:1694: RuntimeWarning: divide by zero encountered in log\n",
      "  loss = -(transformed_labels * np.log(y_pred)).sum(axis=1)\n",
      "c:\\users\\tracy\\anaconda3\\envs\\tensorflow\\lib\\site-packages\\sklearn\\metrics\\classification.py:1694: RuntimeWarning: invalid value encountered in multiply\n",
      "  loss = -(transformed_labels * np.log(y_pred)).sum(axis=1)\n"
     ]
    },
    {
     "ename": "ValueError",
     "evalue": "Classification metrics can't handle a mix of binary and continuous targets",
     "output_type": "error",
     "traceback": [
      "\u001b[1;31m---------------------------------------------------------------------------\u001b[0m",
      "\u001b[1;31mValueError\u001b[0m                                Traceback (most recent call last)",
      "\u001b[1;32m<ipython-input-23-4c75f5ccc73a>\u001b[0m in \u001b[0;36m<module>\u001b[1;34m()\u001b[0m\n\u001b[0;32m     19\u001b[0m \u001b[0mprint\u001b[0m\u001b[1;33m(\u001b[0m\u001b[0mlog_loss\u001b[0m\u001b[1;33m(\u001b[0m\u001b[0my_local_test\u001b[0m\u001b[1;33m,\u001b[0m \u001b[0mpred\u001b[0m\u001b[1;33m)\u001b[0m\u001b[1;33m)\u001b[0m\u001b[1;33m\u001b[0m\u001b[0m\n\u001b[0;32m     20\u001b[0m \u001b[1;33m\u001b[0m\u001b[0m\n\u001b[1;32m---> 21\u001b[1;33m \u001b[0mprint\u001b[0m\u001b[1;33m(\u001b[0m\u001b[0maccuracy_score\u001b[0m\u001b[1;33m(\u001b[0m\u001b[0my_local_test\u001b[0m\u001b[1;33m,\u001b[0m \u001b[0mpred\u001b[0m\u001b[1;33m)\u001b[0m\u001b[1;33m)\u001b[0m\u001b[1;33m\u001b[0m\u001b[0m\n\u001b[0m",
      "\u001b[1;32mc:\\users\\tracy\\anaconda3\\envs\\tensorflow\\lib\\site-packages\\sklearn\\metrics\\classification.py\u001b[0m in \u001b[0;36maccuracy_score\u001b[1;34m(y_true, y_pred, normalize, sample_weight)\u001b[0m\n\u001b[0;32m    174\u001b[0m \u001b[1;33m\u001b[0m\u001b[0m\n\u001b[0;32m    175\u001b[0m     \u001b[1;31m# Compute accuracy for each possible representation\u001b[0m\u001b[1;33m\u001b[0m\u001b[1;33m\u001b[0m\u001b[0m\n\u001b[1;32m--> 176\u001b[1;33m     \u001b[0my_type\u001b[0m\u001b[1;33m,\u001b[0m \u001b[0my_true\u001b[0m\u001b[1;33m,\u001b[0m \u001b[0my_pred\u001b[0m \u001b[1;33m=\u001b[0m \u001b[0m_check_targets\u001b[0m\u001b[1;33m(\u001b[0m\u001b[0my_true\u001b[0m\u001b[1;33m,\u001b[0m \u001b[0my_pred\u001b[0m\u001b[1;33m)\u001b[0m\u001b[1;33m\u001b[0m\u001b[0m\n\u001b[0m\u001b[0;32m    177\u001b[0m     \u001b[1;32mif\u001b[0m \u001b[0my_type\u001b[0m\u001b[1;33m.\u001b[0m\u001b[0mstartswith\u001b[0m\u001b[1;33m(\u001b[0m\u001b[1;34m'multilabel'\u001b[0m\u001b[1;33m)\u001b[0m\u001b[1;33m:\u001b[0m\u001b[1;33m\u001b[0m\u001b[0m\n\u001b[0;32m    178\u001b[0m         \u001b[0mdiffering_labels\u001b[0m \u001b[1;33m=\u001b[0m \u001b[0mcount_nonzero\u001b[0m\u001b[1;33m(\u001b[0m\u001b[0my_true\u001b[0m \u001b[1;33m-\u001b[0m \u001b[0my_pred\u001b[0m\u001b[1;33m,\u001b[0m \u001b[0maxis\u001b[0m\u001b[1;33m=\u001b[0m\u001b[1;36m1\u001b[0m\u001b[1;33m)\u001b[0m\u001b[1;33m\u001b[0m\u001b[0m\n",
      "\u001b[1;32mc:\\users\\tracy\\anaconda3\\envs\\tensorflow\\lib\\site-packages\\sklearn\\metrics\\classification.py\u001b[0m in \u001b[0;36m_check_targets\u001b[1;34m(y_true, y_pred)\u001b[0m\n\u001b[0;32m     79\u001b[0m     \u001b[1;32mif\u001b[0m \u001b[0mlen\u001b[0m\u001b[1;33m(\u001b[0m\u001b[0my_type\u001b[0m\u001b[1;33m)\u001b[0m \u001b[1;33m>\u001b[0m \u001b[1;36m1\u001b[0m\u001b[1;33m:\u001b[0m\u001b[1;33m\u001b[0m\u001b[0m\n\u001b[0;32m     80\u001b[0m         raise ValueError(\"Classification metrics can't handle a mix of {0} \"\n\u001b[1;32m---> 81\u001b[1;33m                          \"and {1} targets\".format(type_true, type_pred))\n\u001b[0m\u001b[0;32m     82\u001b[0m \u001b[1;33m\u001b[0m\u001b[0m\n\u001b[0;32m     83\u001b[0m     \u001b[1;31m# We can't have more than one value on y_type => The set is no more needed\u001b[0m\u001b[1;33m\u001b[0m\u001b[1;33m\u001b[0m\u001b[0m\n",
      "\u001b[1;31mValueError\u001b[0m: Classification metrics can't handle a mix of binary and continuous targets"
     ]
    }
   ],
   "source": [
    "# train and evaluate using VGG16\n",
    "bottleneck_files = [\"bottleneck_features/VGG16_bottleneck_features.h5\"]\n",
    "\n",
    "X_train, X_test, X_local_test, y_train, y_local_test = retrieve_features(bottleneck_files)\n",
    "\n",
    "model = train_model(X_train, y_train)\n",
    "\n",
    "evaluate_model(X_local_test, y_local_test, model)"
   ]
  },
  {
   "cell_type": "code",
   "execution_count": 5,
   "metadata": {},
   "outputs": [
    {
     "name": "stdout",
     "output_type": "stream",
     "text": [
      "Train on 20000 samples, validate on 5000 samples\n",
      "Epoch 1/10\n",
      "20000/20000 [==============================] - 2s 94us/step - loss: 0.1411 - acc: 0.9750 - val_loss: 0.0645 - val_acc: 0.9956\n",
      "Epoch 2/10\n",
      "20000/20000 [==============================] - 2s 96us/step - loss: 0.0372 - acc: 0.9922 - val_loss: 0.0273 - val_acc: 0.9960\n",
      "Epoch 3/10\n",
      "20000/20000 [==============================] - 2s 80us/step - loss: 0.0268 - acc: 0.9926 - val_loss: 0.0259 - val_acc: 0.9952\n",
      "Epoch 4/10\n",
      "20000/20000 [==============================] - 2s 88us/step - loss: 0.0243 - acc: 0.9931 - val_loss: 0.0242 - val_acc: 0.9950\n",
      "Epoch 5/10\n",
      "20000/20000 [==============================] - 2s 77us/step - loss: 0.0222 - acc: 0.9936 - val_loss: 0.0196 - val_acc: 0.9954\n",
      "Epoch 6/10\n",
      "20000/20000 [==============================] - 2s 76us/step - loss: 0.0216 - acc: 0.9936 - val_loss: 0.0224 - val_acc: 0.9948\n",
      "Epoch 7/10\n",
      "20000/20000 [==============================] - 2s 77us/step - loss: 0.0201 - acc: 0.9940 - val_loss: 0.0246 - val_acc: 0.9940\n",
      "Epoch 8/10\n",
      "20000/20000 [==============================] - 2s 80us/step - loss: 0.0194 - acc: 0.9945 - val_loss: 0.0201 - val_acc: 0.9954\n",
      "Epoch 9/10\n",
      "20000/20000 [==============================] - 2s 86us/step - loss: 0.0196 - acc: 0.9937 - val_loss: 0.0206 - val_acc: 0.9950\n",
      "Epoch 10/10\n",
      "20000/20000 [==============================] - 2s 84us/step - loss: 0.0174 - acc: 0.9948 - val_loss: 0.0208 - val_acc: 0.9950\n",
      "Trainning model total consumed:16.829951763153076 seconds\n",
      "7390/7390 [==============================] - 1s 121us/step\n",
      "Evaluate result, loss:0.02293997747471987 , acc:0.9943166441136672\n"
     ]
    }
   ],
   "source": [
    "# train and evaluate using\n",
    "bottleneck_files = [\"bottleneck_features/Xception_bottleneck_features.h5\"]\n",
    "\n",
    "X_train, X_test, X_local_test, y_train, y_local_test = retrieve_features(bottleneck_files)\n",
    "\n",
    "model = train_model(X_train, y_train)\n",
    "\n",
    "evaluate_model(X_local_test, y_local_test, model)"
   ]
  },
  {
   "cell_type": "code",
   "execution_count": null,
   "metadata": {},
   "outputs": [],
   "source": []
  }
 ],
 "metadata": {
  "kernelspec": {
   "display_name": "Python 3",
   "language": "python",
   "name": "python3"
  },
  "language_info": {
   "codemirror_mode": {
    "name": "ipython",
    "version": 3
   },
   "file_extension": ".py",
   "mimetype": "text/x-python",
   "name": "python",
   "nbconvert_exporter": "python",
   "pygments_lexer": "ipython3",
   "version": "3.5.5"
  }
 },
 "nbformat": 4,
 "nbformat_minor": 2
}
