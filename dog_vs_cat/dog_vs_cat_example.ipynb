{
 "cells": [
  {
   "cell_type": "markdown",
   "metadata": {},
   "source": [
    "### 增强数据处理\n",
    "- 项目中提供了一个额外的[扩充数据](http://www.robots.ox.ac.uk/%7Evgg/data/pets/)，数据集情况如下图\n",
    "- ![Extra data](images/breeds.jpg)\n",
    "\n",
    "- 数据解压后全部包含在一个文件中，文件名的格式为{种类}_{序号}.jpg，比如 Abyssinian_1.jpg\n",
    "- 因此我们需要根据上方图片提供的分类信息来进行图片的分类，比如Abyssinian是猫，所以应该把图片Abyssinian_1.jpg分类到train/cat的目录下面\n",
    "- 图片有一处错误萨摩耶应该是samoyed而不是samyoed"
   ]
  },
  {
   "cell_type": "code",
   "execution_count": 4,
   "metadata": {},
   "outputs": [
    {
     "name": "stdout",
     "output_type": "stream",
     "text": [
      "Total dog breeds:25, total cat breeds:12\n"
     ]
    }
   ],
   "source": [
    "import os\n",
    "\n",
    "dog_breeds = ['american_bulldog', 'american_pit_bull_terrier','basset_hound','beagle','boxer',\n",
    "             'chihuahua','english_cocker_spaniel','english_setter','german_shorthaired','great_pyrenees',\n",
    "             'havanese','japanese_chin','keeshond','leonberger','miniature_pinscher','newfoundland','pomeranian',\n",
    "             'pug','saint_bernard','samoyed','scottish_terrier','shiba_inu','staffordshire_bull_terrier',\n",
    "             'wheaten_terrier','yorkshire_terrier']\n",
    "\n",
    "cat_breeds = ['Abyssinian','Bengal','Birman','Bombay','British_Shorthair','Egyptian_Mau','Maine_Coon','Persian',\n",
    "              'Ragdoll','Russian_Blue','Siamese','Sphynx']\n",
    "\n",
    "print(\"Total dog breeds:{}, total cat breeds:{}\".format(len(dog_breeds), len(cat_breeds)))\n",
    "\n",
    "\n",
    "from shutil import move\n",
    "\n",
    "src_cat = 'data/train/cat/'\n",
    "src_dog = 'data/train/dog/'\n",
    "dest_cat = 'data/test_local/cat/'\n",
    "dest_dog = 'data/test_local/dog/'\n",
    "#copyfile(src, dest)\n",
    "\n",
    "\n",
    "def handle_extra_data(src,dest,breeds):\n",
    "    for root, dirs, files in os.walk(src):\n",
    "        for name in files:\n",
    "            for val in breeds:\n",
    "                if(name.find(val)>-1):\n",
    "                    move(src + name, dest + name)\n",
    "            \n",
    "#handle_extra_data(src_cat,dest_cat,cat_breeds)\n",
    "handle_extra_data(src_dog,dest_dog,dog_breeds)"
   ]
  },
  {
   "cell_type": "markdown",
   "metadata": {},
   "source": [
    "### 导出深度特征\n",
    "- 首先我们导出VGG16,VGG19,ResNet50,Xception以及InceptionV3的深度特征\n",
    "- VGG16,VGG19,ResNet50要求的图片的大小为（224， 224）\n",
    "- Xception，Inception要求的图片大小为（299，299）\n",
    "- "
   ]
  },
  {
   "cell_type": "code",
   "execution_count": 24,
   "metadata": {},
   "outputs": [
    {
     "name": "stdout",
     "output_type": "stream",
     "text": [
      "Found 25000 images belonging to 2 classes.\n",
      "Found 12500 images belonging to 1 classes.\n",
      "VGG16 extrac features total consumed: 196.73024725914001 seconds\n",
      "Found 25000 images belonging to 2 classes.\n",
      "Found 12500 images belonging to 1 classes.\n",
      "VGG19 extrac features total consumed: 228.9459409713745 seconds\n",
      "Found 25000 images belonging to 2 classes.\n",
      "Found 12500 images belonging to 1 classes.\n",
      "ResNet50 extrac features total consumed: 211.36610960960388 seconds\n",
      "Found 25000 images belonging to 2 classes.\n",
      "Found 12500 images belonging to 1 classes.\n",
      "InceptionV3 extrac features total consumed: 273.7162392139435 seconds\n",
      "Found 25000 images belonging to 2 classes.\n",
      "Found 12500 images belonging to 1 classes.\n",
      "Xception extrac features total consumed: 416.25546979904175 seconds\n"
     ]
    }
   ],
   "source": [
    "from keras.models import *\n",
    "from keras.layers import *\n",
    "from keras.applications import *\n",
    "from keras.preprocessing.image import *\n",
    "\n",
    "import time\n",
    "import h5py\n",
    "\n",
    "train_data_path = 'data/train/'\n",
    "test_data_path = 'data/test/'\n",
    "\n",
    "def save_bottleneck_features(MODEL, image_size, module_name, preprocess):\n",
    "    \n",
    "    start_time = time.time()\n",
    "    \n",
    "    width = image_size[0]\n",
    "    height = image_size[1]\n",
    "    input_tensor = Input((height, width, 3))\n",
    "    x = Lambda(preprocess)(input_tensor)\n",
    "    \n",
    "    base_model = MODEL(input_tensor=x, weights='imagenet', include_top=False)\n",
    "    model = Model(base_model.input, GlobalAveragePooling2D()(base_model.output))\n",
    "\n",
    "    gen = ImageDataGenerator()\n",
    "    train_generator = gen.flow_from_directory(train_data_path, image_size, shuffle=False, batch_size=32)\n",
    "    test_generator = gen.flow_from_directory(test_data_path, image_size, shuffle=False, batch_size=32, class_mode=None)\n",
    "\n",
    "    train = model.predict_generator(train_generator)\n",
    "    test = model.predict_generator(test_generator)\n",
    "    with h5py.File(\"bottleneck_features/{}_bottleneck_features.h5\".format(module_name)) as h:\n",
    "        h.create_dataset(\"train\", data=train)\n",
    "        h.create_dataset(\"test\", data=test)\n",
    "        h.create_dataset(\"label\", data=train_generator.classes)\n",
    "        \n",
    "    end_time = time.time()\n",
    "    \n",
    "    print(\"{} extrac features total consumed: {} seconds\".format(module_name, end_time - start_time))\n",
    "    \n",
    "\n",
    "save_bottleneck_features(VGG16, (224, 224), 'VGG16', vgg16.preprocess_input)\n",
    "save_bottleneck_features(VGG19, (224, 224), 'VGG19', vgg19.preprocess_input)\n",
    "save_bottleneck_features(ResNet50, (224, 224), 'ResNet50', resnet50.preprocess_input)\n",
    "save_bottleneck_features(InceptionV3, (299, 299), 'InceptionV3', inception_v3.preprocess_input)\n",
    "save_bottleneck_features(Xception, (299, 299), 'Xception', xception.preprocess_input)"
   ]
  },
  {
   "cell_type": "code",
   "execution_count": 66,
   "metadata": {},
   "outputs": [],
   "source": [
    "import matplotlib.pyplot as plt\n",
    "%matplotlib inline\n",
    "\n",
    "def plot_model(model):\n",
    "    train_loss = model.history.history['loss']\n",
    "    train_acc = model.history.history['acc']\n",
    "    val_loss = model.history.history['val_loss']\n",
    "    val_acc = model.history.history['val_acc']\n",
    "\n",
    "    niter = np.arange(len(train_loss))\n",
    "\n",
    "    fig, (ax1, ax2) = plt.subplots(1, 2, figsize=(10, 5))\n",
    "\n",
    "    ax1.plot(niter, train_loss, label='train')\n",
    "    ax1.plot(niter, val_loss, label='validation')\n",
    "    ax1.set_title(\"loss\")\n",
    "    ax1.set_xlabel('ecphos')\n",
    "    ax1.set_ylabel('loss')\n",
    "    ax1.set_ylim(0, 0.35)\n",
    "\n",
    "    ax2.plot(niter, train_acc, label='train')\n",
    "    ax2.plot(niter, val_acc, label='validation')\n",
    "    ax2.set_title(\"accuracy\")\n",
    "    ax2.set_xlabel('ecphos')\n",
    "    ax2.set_ylabel('accuracy')\n",
    "    ax2.set_ylim(0.85, 1)\n",
    "\n",
    "    plt.legend()\n",
    "    plt.show()"
   ]
  },
  {
   "cell_type": "code",
   "execution_count": 67,
   "metadata": {},
   "outputs": [
    {
     "name": "stdout",
     "output_type": "stream",
     "text": [
      "(7168,)\n",
      "Trainning model total consumed: 94.93379020690918 seconds\n"
     ]
    },
    {
     "data": {
      "image/png": "[encoded data removed]",
      "text/plain": [
       "<Figure size 720x360 with 2 Axes>"
      ]
     },
     "metadata": {},
     "output_type": "display_data"
    }
   ],
   "source": [
    "import h5py\n",
    "import numpy as np\n",
    "from sklearn.utils import shuffle\n",
    "from keras.models import *\n",
    "from keras.layers import *\n",
    "import time\n",
    "\n",
    "X_train = []\n",
    "X_test = []\n",
    "bottle_neck_files = [\"bottleneck_features/VGG16_bottleneck_features.h5\",\n",
    "                    \"bottleneck_features/VGG19_bottleneck_features.h5\", \n",
    "                    \"bottleneck_features/ResNet50_bottleneck_features.h5\",\n",
    "                    \"bottleneck_features/InceptionV3_bottleneck_features.h5\",\n",
    "                    \"bottleneck_features/Xception_bottleneck_features.h5\"]\n",
    "\n",
    "for filename in bottle_neck_files:\n",
    "    with h5py.File(filename, 'r') as h:\n",
    "        X_train.append(np.array(h['train']))\n",
    "        X_test.append(np.array(h['test']))\n",
    "        y_train = np.array(h['label'])\n",
    "\n",
    "X_train = np.concatenate(X_train, axis=1)\n",
    "X_test = np.concatenate(X_test, axis=1)\n",
    "\n",
    "print(X_train.shape[1:])\n",
    "\n",
    "input_tensor = Input(X_train.shape[1:])\n",
    "x = Dropout(0.5)(input_tensor)\n",
    "x = Dense(1, activation='sigmoid')(x)\n",
    "model = Model(input_tensor, x)\n",
    "\n",
    "model.compile(optimizer='adadelta', loss='binary_crossentropy', metrics=['accuracy'])\n",
    "\n",
    "start_time = time.time()\n",
    "\n",
    "model.fit(X_train, y_train, batch_size=128, epochs=50, validation_split=0.2, verbose=0)\n",
    "\n",
    "end_time = time.time()\n",
    "    \n",
    "print(\"Trainning model total consumed: {} seconds\".format(end_time - start_time))\n",
    "\n",
    "plot_model(model)"
   ]
  },
  {
   "cell_type": "code",
   "execution_count": 5,
   "metadata": {},
   "outputs": [
    {
     "name": "stdout",
     "output_type": "stream",
     "text": [
      "12500/12500 [==============================] - 0s 30us/step\n",
      "Found 12500 images belonging to 1 classes.\n"
     ]
    },
    {
     "name": "stderr",
     "output_type": "stream",
     "text": [
      "c:\\users\\tracy\\anaconda3\\envs\\tensorflow\\lib\\site-packages\\ipykernel_launcher.py:17: FutureWarning: set_value is deprecated and will be removed in a future release. Please use .at[] or .iat[] accessors instead\n"
     ]
    },
    {
     "data": {
      "text/html": [
       "<div>\n",
       "<style scoped>\n",
       "    .dataframe tbody tr th:only-of-type {\n",
       "        vertical-align: middle;\n",
       "    }\n",
       "\n",
       "    .dataframe tbody tr th {\n",
       "        vertical-align: top;\n",
       "    }\n",
       "\n",
       "    .dataframe thead th {\n",
       "        text-align: right;\n",
       "    }\n",
       "</style>\n",
       "<table border=\"1\" class=\"dataframe\">\n",
       "  <thead>\n",
       "    <tr style=\"text-align: right;\">\n",
       "      <th></th>\n",
       "      <th>id</th>\n",
       "      <th>label</th>\n",
       "    </tr>\n",
       "  </thead>\n",
       "  <tbody>\n",
       "    <tr>\n",
       "      <th>0</th>\n",
       "      <td>1</td>\n",
       "      <td>9.999999e-01</td>\n",
       "    </tr>\n",
       "    <tr>\n",
       "      <th>1</th>\n",
       "      <td>2</td>\n",
       "      <td>1.000000e+00</td>\n",
       "    </tr>\n",
       "    <tr>\n",
       "      <th>2</th>\n",
       "      <td>3</td>\n",
       "      <td>9.999999e-01</td>\n",
       "    </tr>\n",
       "    <tr>\n",
       "      <th>3</th>\n",
       "      <td>4</td>\n",
       "      <td>9.999999e-01</td>\n",
       "    </tr>\n",
       "    <tr>\n",
       "      <th>4</th>\n",
       "      <td>5</td>\n",
       "      <td>5.979497e-10</td>\n",
       "    </tr>\n",
       "    <tr>\n",
       "      <th>5</th>\n",
       "      <td>6</td>\n",
       "      <td>1.196284e-08</td>\n",
       "    </tr>\n",
       "    <tr>\n",
       "      <th>6</th>\n",
       "      <td>7</td>\n",
       "      <td>1.454342e-08</td>\n",
       "    </tr>\n",
       "    <tr>\n",
       "      <th>7</th>\n",
       "      <td>8</td>\n",
       "      <td>2.503891e-09</td>\n",
       "    </tr>\n",
       "    <tr>\n",
       "      <th>8</th>\n",
       "      <td>9</td>\n",
       "      <td>3.338187e-10</td>\n",
       "    </tr>\n",
       "    <tr>\n",
       "      <th>9</th>\n",
       "      <td>10</td>\n",
       "      <td>3.541826e-08</td>\n",
       "    </tr>\n",
       "  </tbody>\n",
       "</table>\n",
       "</div>"
      ],
      "text/plain": [
       "   id         label\n",
       "0   1  9.999999e-01\n",
       "1   2  1.000000e+00\n",
       "2   3  9.999999e-01\n",
       "3   4  9.999999e-01\n",
       "4   5  5.979497e-10\n",
       "5   6  1.196284e-08\n",
       "6   7  1.454342e-08\n",
       "7   8  2.503891e-09\n",
       "8   9  3.338187e-10\n",
       "9  10  3.541826e-08"
      ]
     },
     "execution_count": 5,
     "metadata": {},
     "output_type": "execute_result"
    }
   ],
   "source": [
    "train_data_path = 'data/train/'\n",
    "test_data_path = 'data/test/'\n",
    "\n",
    "y_pred = model.predict(X_test, verbose=1)\n",
    "#y_pred = y_pred.clip(min=0, max=1)\n",
    "\n",
    "import pandas as pd\n",
    "from keras.preprocessing.image import *\n",
    "\n",
    "df = pd.read_csv(\"data/sample_submission.csv\")\n",
    "\n",
    "gen = ImageDataGenerator()\n",
    "test_generator = gen.flow_from_directory(test_data_path, (224, 224), shuffle=False, batch_size=16, class_mode=None)\n",
    "\n",
    "for i, fname in enumerate(test_generator.filenames):\n",
    "    index = int(fname[fname.rfind('\\\\')+1:fname.rfind('.')])\n",
    "    df.set_value(index-1, 'label', y_pred[i])\n",
    "\n",
    "df.to_csv('data/pred.csv', index=None)\n",
    "df.head(10)"
   ]
  },
  {
   "cell_type": "code",
   "execution_count": 9,
   "metadata": {},
   "outputs": [
    {
     "name": "stdout",
     "output_type": "stream",
     "text": [
      "(25000, 7168) (25000,)\n"
     ]
    },
    {
     "data": {
      "text/plain": [
       "RandomForestClassifier(bootstrap=True, class_weight=None, criterion='gini',\n",
       "            max_depth=None, max_features='auto', max_leaf_nodes=None,\n",
       "            min_impurity_decrease=0.0, min_impurity_split=None,\n",
       "            min_samples_leaf=1, min_samples_split=2,\n",
       "            min_weight_fraction_leaf=0.0, n_estimators=10, n_jobs=1,\n",
       "            oob_score=False, random_state=0, verbose=0, warm_start=False)"
      ]
     },
     "execution_count": 9,
     "metadata": {},
     "output_type": "execute_result"
    }
   ],
   "source": [
    "print(X_train.shape, y_train.shape)\n",
    "\n",
    "\n",
    "from sklearn.ensemble import RandomForestClassifier\n",
    "\n",
    "clf = RandomForestClassifier(random_state=0, max_depth=10)\n",
    "clf.fit(X_train, y_train)"
   ]
  },
  {
   "cell_type": "code",
   "execution_count": 11,
   "metadata": {},
   "outputs": [],
   "source": [
    "clf_pred = clf.predict(X_test)"
   ]
  },
  {
   "cell_type": "code",
   "execution_count": 12,
   "metadata": {},
   "outputs": [
    {
     "name": "stderr",
     "output_type": "stream",
     "text": [
      "c:\\users\\tracy\\anaconda3\\envs\\tensorflow\\lib\\site-packages\\ipykernel_launcher.py:3: FutureWarning: set_value is deprecated and will be removed in a future release. Please use .at[] or .iat[] accessors instead\n",
      "  This is separate from the ipykernel package so we can avoid doing imports until\n"
     ]
    },
    {
     "data": {
      "text/html": [
       "<div>\n",
       "<style scoped>\n",
       "    .dataframe tbody tr th:only-of-type {\n",
       "        vertical-align: middle;\n",
       "    }\n",
       "\n",
       "    .dataframe tbody tr th {\n",
       "        vertical-align: top;\n",
       "    }\n",
       "\n",
       "    .dataframe thead th {\n",
       "        text-align: right;\n",
       "    }\n",
       "</style>\n",
       "<table border=\"1\" class=\"dataframe\">\n",
       "  <thead>\n",
       "    <tr style=\"text-align: right;\">\n",
       "      <th></th>\n",
       "      <th>id</th>\n",
       "      <th>label</th>\n",
       "    </tr>\n",
       "  </thead>\n",
       "  <tbody>\n",
       "    <tr>\n",
       "      <th>0</th>\n",
       "      <td>1</td>\n",
       "      <td>1.0</td>\n",
       "    </tr>\n",
       "    <tr>\n",
       "      <th>1</th>\n",
       "      <td>2</td>\n",
       "      <td>1.0</td>\n",
       "    </tr>\n",
       "    <tr>\n",
       "      <th>2</th>\n",
       "      <td>3</td>\n",
       "      <td>1.0</td>\n",
       "    </tr>\n",
       "    <tr>\n",
       "      <th>3</th>\n",
       "      <td>4</td>\n",
       "      <td>1.0</td>\n",
       "    </tr>\n",
       "    <tr>\n",
       "      <th>4</th>\n",
       "      <td>5</td>\n",
       "      <td>0.0</td>\n",
       "    </tr>\n",
       "    <tr>\n",
       "      <th>5</th>\n",
       "      <td>6</td>\n",
       "      <td>0.0</td>\n",
       "    </tr>\n",
       "    <tr>\n",
       "      <th>6</th>\n",
       "      <td>7</td>\n",
       "      <td>0.0</td>\n",
       "    </tr>\n",
       "    <tr>\n",
       "      <th>7</th>\n",
       "      <td>8</td>\n",
       "      <td>0.0</td>\n",
       "    </tr>\n",
       "    <tr>\n",
       "      <th>8</th>\n",
       "      <td>9</td>\n",
       "      <td>0.0</td>\n",
       "    </tr>\n",
       "    <tr>\n",
       "      <th>9</th>\n",
       "      <td>10</td>\n",
       "      <td>0.0</td>\n",
       "    </tr>\n",
       "  </tbody>\n",
       "</table>\n",
       "</div>"
      ],
      "text/plain": [
       "   id  label\n",
       "0   1    1.0\n",
       "1   2    1.0\n",
       "2   3    1.0\n",
       "3   4    1.0\n",
       "4   5    0.0\n",
       "5   6    0.0\n",
       "6   7    0.0\n",
       "7   8    0.0\n",
       "8   9    0.0\n",
       "9  10    0.0"
      ]
     },
     "execution_count": 12,
     "metadata": {},
     "output_type": "execute_result"
    }
   ],
   "source": [
    "for i, fname in enumerate(test_generator.filenames):\n",
    "    index = int(fname[fname.rfind('\\\\')+1:fname.rfind('.')])\n",
    "    df.set_value(index-1, 'label', clf_pred[i])\n",
    "\n",
    "df.to_csv('data/pred.csv', index=None)\n",
    "df.head(10)"
   ]
  },
  {
   "cell_type": "code",
   "execution_count": 1,
   "metadata": {},
   "outputs": [
    {
     "name": "stderr",
     "output_type": "stream",
     "text": [
      "c:\\users\\tracy\\anaconda3\\envs\\tensorflow\\lib\\site-packages\\h5py\\__init__.py:36: FutureWarning: Conversion of the second argument of issubdtype from `float` to `np.floating` is deprecated. In future, it will be treated as `np.float64 == np.dtype(float).type`.\n",
      "  from ._conv import register_converters as _register_converters\n",
      "Using TensorFlow backend.\n"
     ]
    }
   ],
   "source": [
    "import h5py\n",
    "import numpy as np\n",
    "import pandas as pd\n",
    "from keras.models import *\n",
    "from keras.layers import *\n",
    "from keras.preprocessing.image import *\n",
    "from sklearn.metrics import log_loss\n",
    "from sklearn.metrics import accuracy_score\n",
    "from keras.optimizers import *\n",
    "import time\n",
    "import matplotlib.pyplot as plt\n",
    "%matplotlib inline\n",
    "\n",
    "def retrieve_features(files):\n",
    "    X_train = []\n",
    "    X_test = []\n",
    "    y_train = []\n",
    "    \n",
    "    for filename in files:\n",
    "        with h5py.File(filename, 'r') as h:\n",
    "            X_train.append(np.array(h['train']))\n",
    "            X_test.append(np.array(h['test']))\n",
    "            y_train = np.array(h['label'])\n",
    "        \n",
    "    X_train = np.concatenate(X_train, axis=1)\n",
    "    X_test = np.concatenate(X_test, axis=1)\n",
    "    \n",
    "    return X_train, X_test, y_train\n",
    "\n",
    "    \n",
    "\n",
    "def train_model(X_train, y_train, epochs, optimizer='adam', verbose=0):\n",
    "    # construct model\n",
    "    input_tensor = Input(X_train.shape[1:])\n",
    "    x = BatchNormalization()(input_tensor)\n",
    "    x = Dense(1, activation='sigmoid')(x)\n",
    "    model = Model(input_tensor, x)\n",
    "    # compile model\n",
    "    model.compile(optimizer=optimizer, loss='binary_crossentropy', metrics=['accuracy'])\n",
    "    # train model\n",
    "    start_time = time.time()\n",
    "    model.fit(X_train, y_train, batch_size=200, epochs=epochs, validation_split=0.2, verbose=verbose)\n",
    "    end_time = time.time()\n",
    "    print(\"Trainning model total consumed:{:.2f} seconds\".format(end_time - start_time))\n",
    "    \n",
    "    return model\n",
    "\n",
    "def generate_submission_csv(X_test, model, model_name):\n",
    "    start_time = time.time()\n",
    "    y_pred = model.predict(X_test, verbose=0)\n",
    "    end_time = time.time()\n",
    "    print(\"Predicting model total consumed:{:.2f} seconds\".format(end_time - start_time))\n",
    "    y_pred = y_pred.clip(min=0.005, max=0.995)\n",
    "\n",
    "    df = pd.read_csv(\"data/sample_submission.csv\")\n",
    "\n",
    "    gen = ImageDataGenerator()\n",
    "    test_generator = gen.flow_from_directory('data/test/', (224, 224), shuffle=False, batch_size=32, class_mode=None)\n",
    "\n",
    "    for i, fname in enumerate(test_generator.filenames):\n",
    "        index = int(fname[fname.rfind('\\\\')+1:fname.rfind('.')])\n",
    "        df.at[index-1, 'label'] = y_pred[i]\n",
    "\n",
    "    df.to_csv('data/{}_pred.csv'.format(model_name), index=None)\n",
    "\n",
    "def plot_model(model):\n",
    "    train_loss = model.history.history['loss']\n",
    "    train_acc = model.history.history['acc']\n",
    "    val_loss = model.history.history['val_loss']\n",
    "    val_acc = model.history.history['val_acc']\n",
    "\n",
    "    niter = np.arange(len(train_loss))\n",
    "\n",
    "    fig, (ax1, ax2) = plt.subplots(1, 2, figsize=(10, 5))\n",
    "\n",
    "    ax1.plot(niter, train_loss, label='train')\n",
    "    ax1.plot(niter, val_loss, label='validation')\n",
    "    ax1.set_title(\"loss\")\n",
    "    ax1.set_xlabel('ecphos')\n",
    "    ax1.set_ylabel('loss')\n",
    "    ax1.set_ylim(0, 0.35)\n",
    "\n",
    "    ax2.plot(niter, train_acc, label='train')\n",
    "    ax2.plot(niter, val_acc, label='validation')\n",
    "    ax2.set_title(\"accuracy\")\n",
    "    ax2.set_xlabel('ecphos')\n",
    "    ax2.set_ylabel('accuracy')\n",
    "    ax2.set_ylim(0.85, 1)\n",
    "\n",
    "    plt.legend()\n",
    "    plt.show()\n",
    "    \n",
    "    print(\"train max acc:{:.4f}, validation max acc:{:.4f}, train min loss:{:.4f}, validation min loss:{:.4f}\" \\\n",
    "          .format(np.max(train_acc), np.max(val_acc), np.min(train_loss), np.min(val_loss)))"
   ]
  },
  {
   "cell_type": "code",
   "execution_count": 11,
   "metadata": {},
   "outputs": [
    {
     "name": "stdout",
     "output_type": "stream",
     "text": [
      "Trainning model total consumed:36.29 seconds\n"
     ]
    },
    {
     "data": {
      "image/png": "[encoded data removed]",
      "text/plain": [
       "<Figure size 720x360 with 2 Axes>"
      ]
     },
     "metadata": {},
     "output_type": "display_data"
    },
    {
     "name": "stdout",
     "output_type": "stream",
     "text": [
      "train max acc:0.9905, validation max acc:0.9770, train min loss:0.0284, validation min loss:0.0593\n",
      "Predicting model total consumed:1.47 seconds\n",
      "Found 12500 images belonging to 1 classes.\n"
     ]
    }
   ],
   "source": [
    "bottleneck_files = [\"bottleneck_features/VGG16_bottleneck_features.h5\"]\n",
    "\n",
    "X_train, X_test, y_train = retrieve_features(bottleneck_files)\n",
    "\n",
    "optimizer = Adam(lr=0.001, beta_1=0.9, beta_2=0.999, epsilon=None, decay=0.0, amsgrad=False)\n",
    "\n",
    "model = train_model(X_train, y_train, 50, optimizer, 0)\n",
    "\n",
    "plot_model(model)\n",
    "\n",
    "generate_submission_csv(X_test, model, 'VGG16')"
   ]
  },
  {
   "cell_type": "code",
   "execution_count": null,
   "metadata": {},
   "outputs": [],
   "source": [
    "bottleneck_files = [\"bottleneck_features/VGG19_bottleneck_features.h5\"]\n",
    "\n",
    "X_train, X_test, y_train = retrieve_features(bottleneck_files)\n",
    "\n",
    "optimizer = Adam(lr=0.0001, beta_1=0.9, beta_2=0.999, epsilon=None, decay=0.0, amsgrad=False)\n",
    "\n",
    "model = train_model(X_train, y_train, 200, optimizer)\n",
    "\n",
    "plot_model(model)\n",
    "\n",
    "generate_submission_csv(X_test, model, 'VGG19')"
   ]
  },
  {
   "cell_type": "code",
   "execution_count": null,
   "metadata": {},
   "outputs": [],
   "source": [
    "bottleneck_files = [\"bottleneck_features/ResNet50_bottleneck_features.h5\"]\n",
    "\n",
    "X_train, X_test, y_train = retrieve_features(bottleneck_files)\n",
    "\n",
    "optimizer = Adam(lr=0.0001, beta_1=0.9, beta_2=0.999, epsilon=None, decay=0.0, amsgrad=False)\n",
    "\n",
    "model = train_model(X_train, y_train, 50, optimizer)\n",
    "\n",
    "plot_model(model)\n",
    "\n",
    "generate_submission_csv(X_test, model, 'ResNet50')"
   ]
  },
  {
   "cell_type": "code",
   "execution_count": null,
   "metadata": {},
   "outputs": [],
   "source": [
    "bottleneck_files = [\"bottleneck_features/InceptionV3_bottleneck_features.h5\"]\n",
    "\n",
    "X_train, X_test, y_train = retrieve_features(bottleneck_files)\n",
    "\n",
    "optimizer = Adam(lr=0.00005, beta_1=0.9, beta_2=0.999, epsilon=None, decay=0.0, amsgrad=False)\n",
    "\n",
    "model = train_model(X_train, y_train, 20, optimizer)\n",
    "\n",
    "plot_model(model)\n",
    "\n",
    "generate_submission_csv(X_test, model, 'InceptionV3')"
   ]
  },
  {
   "cell_type": "code",
   "execution_count": null,
   "metadata": {},
   "outputs": [],
   "source": [
    "bottleneck_files = [\"bottleneck_features/Xception_bottleneck_features.h5\"]\n",
    "\n",
    "X_train, X_test, y_train = retrieve_features(bottleneck_files)\n",
    "\n",
    "optimizer = Adam(lr=0.00005, beta_1=0.9, beta_2=0.999, epsilon=None, decay=0.0, amsgrad=False)\n",
    "\n",
    "model = train_model(X_train, y_train, 20, optimizer)\n",
    "\n",
    "plot_model(model)\n",
    "\n",
    "generate_submission_csv(X_test, model, 'Xception')"
   ]
  },
  {
   "cell_type": "code",
   "execution_count": null,
   "metadata": {},
   "outputs": [],
   "source": [
    "bottleneck_files = [\"bottleneck_features/VGG16_bottleneck_features.h5\",\n",
    "                    \"bottleneck_features/VGG19_bottleneck_features.h5\", \n",
    "                    \"bottleneck_features/ResNet50_bottleneck_features.h5\",\n",
    "                    \"bottleneck_features/InceptionV3_bottleneck_features.h5\",\n",
    "                    \"bottleneck_features/Xception_bottleneck_features.h5\"]\n",
    "\n",
    "X_train, X_test, y_train = retrieve_features(bottleneck_files)\n",
    "\n",
    "optimizer = Adam(lr=0.00007, beta_1=0.9, beta_2=0.999, epsilon=None, decay=0.01, amsgrad=False)\n",
    "\n",
    "model = train_model(X_train, y_train, 50, optimizer)\n",
    "\n",
    "plot_model(model)\n",
    "\n",
    "generate_submission_csv(X_test, model, 'All_models')"
   ]
  }
 ],
 "metadata": {
  "kernelspec": {
   "display_name": "Python 3",
   "language": "python",
   "name": "python3"
  },
  "language_info": {
   "codemirror_mode": {
    "name": "ipython",
    "version": 3
   },
   "file_extension": ".py",
   "mimetype": "text/x-python",
   "name": "python",
   "nbconvert_exporter": "python",
   "pygments_lexer": "ipython3",
   "version": "3.5.5"
  }
 },
 "nbformat": 4,
 "nbformat_minor": 2
}
